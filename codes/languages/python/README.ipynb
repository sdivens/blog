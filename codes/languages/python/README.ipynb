{
 "nbformat": 4,
 "nbformat_minor": 2,
 "metadata": {
  "language_info": {
   "name": "python",
   "codemirror_mode": {
    "name": "ipython",
    "version": 3
   },
   "version": "3.7.6-final"
  },
  "orig_nbformat": 2,
  "file_extension": ".py",
  "mimetype": "text/x-python",
  "name": "python",
  "npconvert_exporter": "python",
  "pygments_lexer": "ipython3",
  "version": 3,
  "kernelspec": {
   "name": "python37664bitpytorchconda5da3e5895335446aaf87bcfa852f2aa6",
   "display_name": "Python 3.7.6 64-bit ('pytorch': conda)"
  }
 },
 "cells": [
  {
   "cell_type": "markdown",
   "metadata": {},
   "source": [
    "# metaclass 一个示例"
   ]
  },
  {
   "cell_type": "code",
   "execution_count": 23,
   "metadata": {},
   "outputs": [],
   "source": [
    "class Mymeta(type):\n",
    "\n",
    "    def __init__(self, name, bases,dic):\n",
    "        super().__init__(name, bases, dic)\n",
    "        print('==>Mymeta.__init__')\n",
    "        print(self.__name__)\n",
    "        print(dic)\n",
    "        print(self.yaml_tag)\n",
    "    \n",
    "    def __new__(cls, *args, **kwargs):\n",
    "        print('==>Mymeta.__new__')\n",
    "        print(cls.__name__)\n",
    "        print('-->Mymeta.__new__[*args]:{}'.format(str(args)))\n",
    "        print('-->Mymeta.__new__[**kwargs]:{}'.format(str(kwargs)))\n",
    "        return type.__new__(cls, *args, **kwargs)\n",
    "\n",
    "    def __call__(cls, *args, **kwargs):\n",
    "        print('==>Mymeta.__init__')\n",
    "        obj = cls.__new__(cls)\n",
    "        cls.__init__(cls, *args, **kwargs)\n",
    "        return obj  "
   ]
  },
  {
   "cell_type": "code",
   "execution_count": 24,
   "metadata": {},
   "outputs": [
    {
     "output_type": "stream",
     "name": "stdout",
     "text": "==>Mymeta.__new__\nMymeta\n-->Mymeta.__new__[*args]:('Foo', (), {'__module__': '__main__', '__qualname__': 'Foo', 'yaml_tag': '!Foo', '__init__': <function Foo.__init__ at 0x10e36ec20>, '__new__': <function Foo.__new__ at 0x10e36e4d0>})\n-->Mymeta.__new__[**kwargs]:{}\n==>Mymeta.__init__\nFoo\n{'__module__': '__main__', '__qualname__': 'Foo', 'yaml_tag': '!Foo', '__init__': <function Foo.__init__ at 0x10e36ec20>, '__new__': <function Foo.__new__ at 0x10e36e4d0>}\n!Foo\n"
    }
   ],
   "source": [
    "class Foo(metaclass=Mymeta):\n",
    "    \n",
    "    yaml_tag = \"!Foo\"\n",
    "\n",
    "    def __init__(self, name):\n",
    "        print('Foo.__init__')\n",
    "        self.name = name\n",
    "    \n",
    "    def __new__(cls, *args, **kwargs):\n",
    "        print('Foo.__new__')\n",
    "        return object.__new__(cls)"
   ]
  },
  {
   "cell_type": "code",
   "execution_count": 25,
   "metadata": {},
   "outputs": [
    {
     "output_type": "stream",
     "name": "stdout",
     "text": "==>Mymeta.__init__\nFoo.__new__\nFoo.__init__\n"
    }
   ],
   "source": [
    "foo = Foo('foo')"
   ]
  },
  {
   "cell_type": "markdown",
   "metadata": {},
   "source": [
    "* 所有python的用户定义类，都是type这个类的实例\n",
    "* 用户定义类，只不过是type类的`__call__`运算符重载\n",
    "* metaclass是type的子类，通过替换type的`__call__`运算符重载机制，‘超类变形’正常的类"
   ]
  },
  {
   "cell_type": "code",
   "execution_count": null,
   "metadata": {},
   "outputs": [],
   "source": [
    "# 判断一个序列是不是另外一个序列的子序列"
   ]
  },
  {
   "cell_type": "code",
   "execution_count": 28,
   "metadata": {},
   "outputs": [
    {
     "output_type": "stream",
     "name": "stdout",
     "text": "True\n"
    }
   ],
   "source": [
    "def is_subsequence(a,b):\n",
    "\n",
    "    b = iter(b)\n",
    "    return all(i in b for i in a)\n",
    "\n",
    "\n",
    "print(is_subsequence([1,3,5],[1,2,3,4,5]))"
   ]
  },
  {
   "cell_type": "code",
   "execution_count": 34,
   "metadata": {},
   "outputs": [],
   "source": [
    "b = [i for i in range(5)]"
   ]
  },
  {
   "cell_type": "markdown",
   "metadata": {},
   "source": [
    "### 迭代器和生成器的对比\n",
    "迭代器： 占用空间大，可以反复查找和遍历  \n",
    "生成器： yield关键字会跳出，会保留上下文，但是只能向前next调用。"
   ]
  },
  {
   "cell_type": "code",
   "execution_count": 39,
   "metadata": {},
   "outputs": [],
   "source": [
    "### 协程\n"
   ]
  },
  {
   "cell_type": "code",
   "execution_count": 49,
   "metadata": {},
   "outputs": [],
   "source": [
    "#### 生产消费者模型\n",
    "import asyncio\n",
    "import random\n",
    "\n",
    "\n",
    "async def consumer(queue, id):\n",
    "    while True:\n",
    "        val = await queue.get()\n",
    "        print('{} get a val: {}'.format(id, val))\n",
    "        await asyncio.sleep(1)\n",
    "\n",
    "\n",
    "async def producer(queue, id):\n",
    "    for i in range(5):\n",
    "        val = random.randint(1,10)\n",
    "        await queue.put(val)\n",
    "        print('{} put a val: {}'.format(id, val))\n",
    "        await asyncio.sleep(1)\n",
    "\n",
    "\n",
    "async def main():\n",
    "    queue = asyncio.Queue()\n",
    "\n",
    "    consumer_1 = asyncio.create_task(consumer(queue, 'consumer_1'))\n",
    "    consumer_2 = asyncio.create_task(consumer(queue, 'consumer_2'))\n",
    "\n",
    "    producer_1 = asyncio.create_task(producer(queue, 'producer_1'))\n",
    "    producer_2 = asyncio.create_task(producer(queue, 'producer_2'))\n",
    "\n",
    "    await asyncio.sleep(10)\n",
    "    consumer_1.cancel()\n",
    "    consumer_2.cancel()\n",
    "\n",
    "    await asyncio.gather(consumer_1,consumer_2,producer_1,producer_2, return_exceptions=True)\n",
    "\n",
    "%time asyncio.run(main)\n"
   ]
  },
  {
   "cell_type": "markdown",
   "metadata": {},
   "source": [
    "## python并发编程"
   ]
  },
  {
   "cell_type": "code",
   "execution_count": 59,
   "metadata": {},
   "outputs": [],
   "source": [
    "# 并发\n",
    "# 多线程\n",
    "import concurrent.futures"
   ]
  },
  {
   "cell_type": "code",
   "execution_count": null,
   "metadata": {},
   "outputs": [],
   "source": [
    "# 并发\n",
    "# Sync vs Async\n",
    "import asyncio\n",
    "# 可以进行多个task\n",
    "# 不同的任务会被event loop的对象所控制\n",
    "# 一是 预备状态\n",
    "# 二是 等待状态\n",
    "# 代码使用aiohttp"
   ]
  },
  {
   "cell_type": "code",
   "execution_count": null,
   "metadata": {},
   "outputs": [],
   "source": [
    "# 并行\n",
    "import multiprocessing"
   ]
  },
  {
   "cell_type": "markdown",
   "metadata": {},
   "source": [
    "### Python GIL 全局解释器锁\n",
    "* Cpython引入的原因\n",
    "    * 为了避免类似于内存管理这样的复杂竞争风险问题\n",
    "    * Cpython中大量使用了C语言库，大部分C语言库都是不是线程安全的\n",
    "* Cpython中check_interval\n",
    "* 绕过GIL的方式\n",
    "    * 绕过CPython\n",
    "    * 把关键性能代码放到其他语言中。\n"
   ]
  },
  {
   "cell_type": "markdown",
   "metadata": {},
   "source": [
    "### 代码风格\n",
    " * PEP8\n",
    " * Google style\n",
    " * 为什么\n",
    "    * 阅读者的体验\n",
    "    * 编程者的体验\n",
    "    * 机器的体验\n",
    " * 方式\n",
    "    * pylint"
   ]
  },
  {
   "cell_type": "code",
   "execution_count": null,
   "metadata": {},
   "outputs": [],
   "source": [
    "### 合理分解代码\n",
    "* PEP 8 规范\n",
    "    "
   ]
  },
  {
   "cell_type": "code",
   "execution_count": null,
   "metadata": {},
   "outputs": [],
   "source": []
  }
 ]
}